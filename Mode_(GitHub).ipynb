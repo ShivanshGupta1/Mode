{
  "nbformat": 4,
  "nbformat_minor": 0,
  "metadata": {
    "colab": {
      "name": "Mode (GitHub).ipynb",
      "provenance": [],
      "authorship_tag": "ABX9TyOSS83UyYcHGOkcdO2VGcqV",
      "include_colab_link": true
    },
    "kernelspec": {
      "name": "python3",
      "display_name": "Python 3"
    }
  },
  "cells": [
    {
      "cell_type": "markdown",
      "metadata": {
        "id": "view-in-github",
        "colab_type": "text"
      },
      "source": [
        "<a href=\"https://colab.research.google.com/github/ShivanshGupta1/Mode/blob/main/Mode_(GitHub).ipynb\" target=\"_parent\"><img src=\"https://colab.research.google.com/assets/colab-badge.svg\" alt=\"Open In Colab\"/></a>"
      ]
    },
    {
      "cell_type": "code",
      "metadata": {
        "id": "dS63UR0PsjKF"
      },
      "source": [
        "#Mode checker\n",
        "song = \"she loves you yeah yeah yeah she loves you yeah yeah yeah she loves you yeah yeah yeah you think you’ve lost your love well i saw her yesterday-yi-yay it’s you she’s thinking of and she told me what to say-yi-yay she says she loves you and you know that can’t be bad yes she loves you and you know you should be glad\" #This is the song\n",
        "song = song.split() #This is converting the string to a list\n",
        "songDictionary = {} #This is the empty dictionary\n",
        "currentTopper = \"she\"#This is the first data of the dataset\n",
        "def work(songDictionary,song): #This is the function for the program\n",
        "  for i in song: #This for loop checks for every element (eg. - \"yeah\"), in the list...\n",
        "    if i in songDictionary:#If that element is already there in the dictionary...\n",
        "      songDictionary[i]=songDictionary[i]+1 #Then add 1 more to it\n",
        "    else:#Else initialize the value to 1\n",
        "      songDictionary[i]=1\n",
        "  return songDictionary#In the end, when the for loop is over, it will return us the dictionary\n",
        "newsongDictionary = work(songDictionary,song);#This is a new dictionary with the old dictionary\n",
        "def mode():#This is the function to check the mode of the data\n",
        "  for i in newsongDictionary:#This for loop checks for every element (eg. - \"yeah\"), in the dictionary...\n",
        "    if newsongDictionary[currentTopper]<=newsongDictionary[i]:#If that element is larger then our current mode...\n",
        "      currentTopper = i#Then make that our new mode\n",
        "      value = newsongDictionary[currentTopper]#Take its value\n",
        "  print(\"The mode of the data is\",currentTopper,\"'with the value\",value)#If the final mode has been taken out, then it printd it here\n",
        "mode();#This calls the function"
      ],
      "execution_count": null,
      "outputs": []
    }
  ]
}